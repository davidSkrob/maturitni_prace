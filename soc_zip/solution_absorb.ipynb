{
 "cells": [
  {
   "cell_type": "code",
   "execution_count": 1,
   "metadata": {},
   "outputs": [],
   "source": [
    "import matplotlib.pyplot as plt\n",
    "import numpy as np\n",
    "from scipy.optimize import curve_fit\n",
    "import pandas as pd\n",
    "import csv"
   ]
  },
  {
   "cell_type": "code",
   "execution_count": 2,
   "metadata": {},
   "outputs": [],
   "source": [
    "fileO = open(r'C:\\Users\\david\\Desktop\\maturitni_prace\\OmassCoefff.txt', 'r')\n",
    "fileH = open(r'C:\\Users\\david\\Desktop\\maturitni_prace\\HmassCoefff.txt', 'r')\n",
    "filewater = open(r'C:\\Users\\david\\Desktop\\maturitni_prace\\watermassCoefff.txt', 'r')\n",
    "fileU = open(r'C:\\Users\\david\\Desktop\\maturitni_prace\\UmassCoefff.txt', 'r')\n",
    "\n",
    "molar_mass_H = 1.00784\n",
    "molar_mass_O = 15.999\n",
    "molar_mass_U = 238.02891\n",
    "\n",
    "energy_as_x_to_masscoeff_U = []\n",
    "masscoef_U = []\n",
    "energy_as_x_to_masscoeff_O = [] #MeV\n",
    "masscoef_O = [] #(cm2/g)\n",
    "energy_as_x_to_masscoeff_H = [] #MeV\n",
    "masscoef_H = [] #(cm2/g)\n",
    "energy_as_x_to_masscoeff_water = [] #MeV\n",
    "masscoef_water = [] #(cm2/g)\n",
    "\n",
    "for line in fileU:\n",
    "    energy_as_x_to_masscoeff_U.append(float(line[3:14]))\n",
    "    masscoef_U.append(float(line[15:25]))\n",
    "\n",
    "for line in fileO:\n",
    "    energy_as_x_to_masscoeff_O.append(float(line[0:12]))\n",
    "    masscoef_O.append(float(line[13:22]))\n",
    "\n",
    "for line in fileH:\n",
    "    energy_as_x_to_masscoeff_H.append(float(line[1:13]))\n",
    "    masscoef_H.append(float(line[14:23]))\n",
    "\n",
    "for line in filewater:\n",
    "    energy_as_x_to_masscoeff_water.append(float(line[0:12]))\n",
    "    masscoef_water.append(float(line[13:22]))"
   ]
  },
  {
   "cell_type": "code",
   "execution_count": 3,
   "metadata": {},
   "outputs": [],
   "source": [
    "def check_energies(energy1, energy2):\n",
    "    i = 0\n",
    "    if len(energy1) == len(energy2):\n",
    "        print(\"you have same nuber of x values\")\n",
    "        for i in range(len(energy2)):\n",
    "            if energy1[i] == energy2[i]:\n",
    "                pass\n",
    "                #print(\"ok\")\n",
    "            else:\n",
    "                print(\"fail index:{}, {} is not {}, diff: {}\".format(i, energy1[i], energy2[i], energy1[i] - energy2[i]))\n",
    "                i = i+1\n",
    "        return i\n",
    "    else:\n",
    "        return \"you dont have same nuber of x values\"\n"
   ]
  },
  {
   "cell_type": "code",
   "execution_count": 4,
   "metadata": {},
   "outputs": [
    {
     "name": "stdout",
     "output_type": "stream",
     "text": [
      "36, 36\n"
     ]
    }
   ],
   "source": [
    "def calculate_correct_masscoeff_of_substance(masscoef1=masscoef_O, masscoef2=masscoef_H, molar_mass1=molar_mass_O, molar_mass2=molar_mass_H, n1=1, n2=2):\n",
    "    answ_masscoef = []\n",
    "    print(\"{}, {}\".format(len(masscoef1), len(masscoef2)))\n",
    "    for i in range(len(masscoef1)):\n",
    "        mass1 = molar_mass1 * n1\n",
    "        mass2 = molar_mass2 * n2\n",
    "        x = (masscoef1[i] * mass1 + masscoef2[i] * mass2)/(mass1 + mass2)\n",
    "        answ_masscoef.append(round(x, 5))\n",
    "    return answ_masscoef\n",
    "\n",
    "h2o_calculated = calculate_correct_masscoeff_of_substance()"
   ]
  },
  {
   "cell_type": "code",
   "execution_count": 5,
   "metadata": {},
   "outputs": [
    {
     "name": "stdout",
     "output_type": "stream",
     "text": [
      "you have same nuber of x values\n",
      "fail in index:0\t 4077.22797 is not 4078.0\t diff: -0.7720300000000861\n",
      "fail in index:1\t 1375.92123 is not 1376.0\t diff: -0.07877000000007683\n",
      "fail in index:2\t 617.26546 is not 617.3\t diff: -0.03453999999999269\n",
      "fail in index:3\t 192.87126 is not 192.9\t diff: -0.0287399999999991\n",
      "fail in index:4\t 82.77822 is not 82.78\t diff: -0.0017799999999965621\n",
      "fail in index:5\t 42.58734 is not 42.58\t diff: 0.007339999999999236\n",
      "fail in index:6\t 24.64585 is not 24.64\t diff: 0.005849999999998801\n",
      "fail in index:7\t 10.3725 is not 10.37\t diff: 0.002500000000001279\n",
      "fail in index:8\t 5.32915 is not 5.329\t diff: 0.0001500000000005386\n",
      "fail in index:9\t 1.67268 is not 1.673\t diff: -0.000320000000000098\n",
      "fail in index:10\t 0.80965 is not 0.8096\t diff: 4.999999999999449e-05\n",
      "fail in index:11\t 0.37556 is not 0.3756\t diff: -3.999999999998449e-05\n",
      "fail in index:12\t 0.26827 is not 0.2683\t diff: -2.999999999997449e-05\n",
      "fail in index:13\t 0.22688 is not 0.2269\t diff: -1.9999999999992246e-05\n",
      "fail in index:14\t 0.20584 is not 0.2059\t diff: -6.0000000000004494e-05\n",
      "fail in index:15\t 0.18361 is not 0.1837\t diff: -9.000000000000674e-05\n",
      "fail in index:16\t 0.17069 is not 0.1707\t diff: -9.999999999982245e-06\n",
      "fail in index:17\t 0.15053 is not 0.1505\t diff: 3.0000000000002247e-05\n",
      "fail in index:18\t 0.13704 is not 0.137\t diff: 3.999999999998449e-05\n",
      "fail in index:19\t 0.11866 is not 0.1186\t diff: 6.0000000000004494e-05\n",
      "fail in index:20\t 0.10614 is not 0.1061\t diff: 3.999999999999837e-05\n",
      "fail in index:23\t 0.07866 is not 0.07865\t diff: 9.999999999996123e-06\n",
      "fail in index:27\t 0.04941 is not 0.04942\t diff: -9.999999999996123e-06\n"
     ]
    },
    {
     "data": {
      "text/plain": [
       "35"
      ]
     },
     "execution_count": 5,
     "metadata": {},
     "output_type": "execute_result"
    }
   ],
   "source": [
    "check_energies(h2o_calculated, masscoef_water)"
   ]
  },
  {
   "cell_type": "code",
   "execution_count": 6,
   "metadata": {},
   "outputs": [],
   "source": [
    "#   zkontroluje jestli neni nekde Nta hodonta mensi nez N+1ta hodnota,\n",
    "#   coz v pripade vody by znamenalo ze je nekde chyba\n",
    "#   ale v pripade oxidu uranu by to bylo k nicemu\n",
    "\n",
    "for i in range(1,len(energy_as_x_to_masscoeff_water)):\n",
    "    if h2o_calculated[i] > h2o_calculated[i-1]:\n",
    "        print(\"something wrong at index {} and {}\".format(i, i-1))"
   ]
  },
  {
   "cell_type": "code",
   "execution_count": 7,
   "metadata": {},
   "outputs": [
    {
     "data": {
      "image/png": "[encoded data removed]",
      "text/plain": [
       "<Figure size 432x288 with 1 Axes>"
      ]
     },
     "metadata": {
      "needs_background": "light"
     },
     "output_type": "display_data"
    }
   ],
   "source": [
    "#plotovani\n",
    "plt.scatter(energy_as_x_to_masscoeff_H, h2o_calculated, c=\"b\")\n",
    "plt.scatter(energy_as_x_to_masscoeff_water, masscoef_water, c = \"r\")\n",
    "plt.scatter(energy_as_x_to_masscoeff_U, masscoef_U, c=\"m\")\n",
    "plt.yscale('log')\n",
    "plt.xscale('log')\n",
    "#je to tak dobre ze neni vidiet modra, protoze je presne na stejnejch mistech jak cervena"
   ]
  },
  {
   "cell_type": "code",
   "execution_count": 8,
   "metadata": {},
   "outputs": [
    {
     "name": "stdout",
     "output_type": "stream",
     "text": [
      "you dont have same nuber of x values\n",
      "[0.001, 0.0010222, 0.0010449, 0.0010449, 0.00115314, 0.0012726, 0.0012726, 0.00135409, 0.0014408, 0.0014408, 0.0015, 0.002, 0.003, 0.0035517, 0.0035517, 0.00363859, 0.0037276, 0.0037276, 0.004, 0.0043034, 0.0043034, 0.005, 0.0051822, 0.0051822, 0.00536198, 0.005548, 0.005548, 0.006, 0.008, 0.01, 0.015, 0.0171663, 0.0171663, 0.02, 0.0209476, 0.0209476, 0.0213487, 0.0217574, 0.0217574, 0.03, 0.04, 0.05, 0.06, 0.08, 0.1, 0.115606, 0.115606, 0.15, 0.2, 0.3, 0.4, 0.5, 0.6, 0.8, 1.0, 1.25, 1.5, 2.0, 3.0, 4.0, 5.0, 6.0, 8.0, 10.0, 15.0, 20.0]\n",
      "[0.001, 0.0015, 0.002, 0.003, 0.004, 0.005, 0.006, 0.008, 0.01, 0.015, 0.02, 0.03, 0.04, 0.05, 0.06, 0.08, 0.1, 0.15, 0.2, 0.3, 0.4, 0.5, 0.6, 0.8, 1.0, 1.25, 1.5, 2.0, 3.0, 4.0, 5.0, 6.0, 8.0, 10.0, 15.0, 20.0]\n"
     ]
    }
   ],
   "source": [
    "p = check_energies(energy_as_x_to_masscoeff_U, energy_as_x_to_masscoeff_O)\n",
    "print(p)\n",
    "print(energy_as_x_to_masscoeff_U)\n",
    "print(energy_as_x_to_masscoeff_O)"
   ]
  },
  {
   "cell_type": "code",
   "execution_count": 17,
   "metadata": {},
   "outputs": [
    {
     "data": {
      "image/png": "[encoded data removed]",
      "text/plain": [
       "<Figure size 432x288 with 1 Axes>"
      ]
     },
     "metadata": {
      "needs_background": "light"
     },
     "output_type": "display_data"
    }
   ],
   "source": [
    "plt.scatter(energy_as_x_to_masscoeff_O, masscoef_O, marker=\"x\", c=\"r\")\n",
    "#plt.scatter(energy_as_x_to_masscoeff_U, masscoef_U, marker=\"x\", c=\"m\")\n",
    "\n",
    "def func(E, *a):\n",
    "    eff = 0\n",
    "    for i in range(0,n):\n",
    "        eff += a[i]*np.log(E)**i\n",
    "    return eff\n",
    "\n",
    "n=6\n",
    "output = []\n",
    "p0 = np.ones(n, )\n",
    "x_min = 0.001\n",
    "x_max = 21\n",
    "x_step = 0.001\n",
    "\n",
    "coeff, pcov = curve_fit(func, xdata=energy_as_x_to_masscoeff_O, ydata=np.log(masscoef_O), p0=p0)\n",
    "coeff_err = np.sqrt(np.diag(pcov))\n",
    "\n",
    "\n",
    "p = np.logspace(min(energy_as_x_to_masscoeff_O)-5, np.log(max(energy_as_x_to_masscoeff_O)+5), 1000000)\n",
    "#plt.plot(p, np.exp(func(p, *pars)), c=\"red\")\n",
    "plt.plot(np.arange(x_min, x_max, x_step), np.exp(func(np.arange(x_min, x_max, x_step), *coeff)))\n",
    "#print(pars)\n",
    "plt.yscale('log')\n",
    "plt.xscale('log')\n",
    "plt.ylabel(r'$\\mu_{\\rho O}$ [$cm^{2}/g$]')\n",
    "plt.xlabel(\"Energie [MeV]\")\n",
    "#plt.ylim(ymin=0)\n",
    "plt.savefig(\"graf2.png\", dpi = 400)"
   ]
  },
  {
   "cell_type": "code",
   "execution_count": 10,
   "metadata": {},
   "outputs": [
    {
     "name": "stdout",
     "output_type": "stream",
     "text": [
      "66, 66\n"
     ]
    },
    {
     "data": {
      "image/png": "[encoded data removed]",
      "text/plain": [
       "<Figure size 432x288 with 1 Axes>"
      ]
     },
     "metadata": {
      "needs_background": "light"
     },
     "output_type": "display_data"
    }
   ],
   "source": [
    "energy_as_x_to_masscoeff_U\n",
    "masscoeff_O_calculated = []\n",
    "for energy in energy_as_x_to_masscoeff_U:\n",
    "    k = np.exp(func(energy, *coeff))\n",
    "    masscoeff_O_calculated.append(k)\n",
    "\n",
    "plt.scatter(energy_as_x_to_masscoeff_O, masscoef_O, marker=\"x\", c=\"r\")\n",
    "plt.scatter(energy_as_x_to_masscoeff_U, masscoeff_O_calculated, marker=\"x\", c=\"m\")\n",
    "plt.yscale('log')\n",
    "plt.xscale('log')\n",
    "masscoeff_UO2 = calculate_correct_masscoeff_of_substance(masscoeff_O_calculated, masscoef_U, molar_mass_O, molar_mass_U, 2,1)\n"
   ]
  },
  {
   "cell_type": "code",
   "execution_count": 11,
   "metadata": {},
   "outputs": [
    {
     "data": {
      "image/png": "[encoded data removed]",
      "text/plain": [
       "<Figure size 432x288 with 1 Axes>"
      ]
     },
     "metadata": {
      "needs_background": "light"
     },
     "output_type": "display_data"
    }
   ],
   "source": [
    "with open(r'C:\\Users\\david\\Desktop\\maturitni_prace\\UO2massCoefff.csv', 'w', encoding='UTF8', newline='') as f:\n",
    "    writer = csv.writer(f)\n",
    "    for i in range(len(energy_as_x_to_masscoeff_U)):\n",
    "        row = [str(energy_as_x_to_masscoeff_U[i]),  str(masscoeff_UO2[i])]\n",
    "        writer.writerow(row)\n",
    "\n",
    "plt.scatter(energy_as_x_to_masscoeff_U, masscoef_U, marker=\"x\", c=\"r\")\n",
    "plt.scatter(energy_as_x_to_masscoeff_U, masscoeff_O_calculated, marker=\"x\", c=\"m\")\n",
    "plt.scatter(energy_as_x_to_masscoeff_U, masscoeff_UO2, marker=\"x\", c=\"g\")\n",
    "plt.yscale('log')\n",
    "plt.xscale('log')"
   ]
  }
 ],
 "metadata": {
  "kernelspec": {
   "display_name": "base",
   "language": "python",
   "name": "python3"
  },
  "language_info": {
   "codemirror_mode": {
    "name": "ipython",
    "version": 3
   },
   "file_extension": ".py",
   "mimetype": "text/x-python",
   "name": "python",
   "nbconvert_exporter": "python",
   "pygments_lexer": "ipython3",
   "version": "3.9.12"
  },
  "orig_nbformat": 4,
  "vscode": {
   "interpreter": {
    "hash": "ea8238db6dc1fe8cf6fe83219457bde9bcbcde2053d40c59d2e78211d10c5fee"
   }
  }
 },
 "nbformat": 4,
 "nbformat_minor": 2
}
