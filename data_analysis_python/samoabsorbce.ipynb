{
 "cells": [
  {
   "cell_type": "code",
   "execution_count": 6,
   "metadata": {},
   "outputs": [],
   "source": [
    "import matplotlib.pyplot as plt\n",
    "import numpy as np\n",
    "from scipy.optimize import curve_fit\n",
    "import pandas as pd\n",
    "np.seterr(divide='ignore')\n",
    "\n",
    "data = pd.read_csv('C:/Users/david/Desktop/maturitni_prace/data_analysis_python/eff_october.csv', sep=',', header=None)\n",
    "\n",
    "names = []\n",
    "energy = np.array([])\n",
    "eff = np.array([])\n",
    "yerr = []\n",
    "for i in range(3):\n",
    "    names.append(data[i][0])\n",
    "for j in range(1,31):\n",
    "    eff = np.append(eff, float(data[0][j]))\n",
    "    yerr = np.append(yerr, float(data[1][j]))\n",
    "    energy = np.append(energy, float(data[2][j]))"
   ]
  },
  {
   "cell_type": "code",
   "execution_count": 7,
   "metadata": {},
   "outputs": [],
   "source": [
    "def func(x, a, b, c, d, e, f):\n",
    "    return a * np.log(x)+ b * pow(np.log(x), 2) + c * pow(np.log(x), 3) + d * pow(np.log(x), 4) + e *pow(np.log(x), 5) + f\n",
    "\n",
    "output = []\n",
    "pars, cov = curve_fit(f=func, xdata=energy, ydata=eff, sigma=1./(np.log((yerr*eff))**2))\n",
    "coeff_err = np.sqrt(np.diag(cov))\n",
    "'''\n",
    "for i in range(len(pars)):\n",
    "    output.append('a{0} = {1:.6f} +- {2:.7f} ({3:d} %)'.format(i, pars[i], coeff_err[i], abs(int(coeff_err[i]/pars[i]*100))))\n",
    "for i in output:\n",
    "    print(i)\n",
    "'''\n",
    "\n",
    "global eff_param\n",
    "eff_param = pars"
   ]
  },
  {
   "cell_type": "code",
   "execution_count": 8,
   "metadata": {},
   "outputs": [],
   "source": [
    "file1 = open(r'C:\\Users\\david\\Desktop\\maturitni_prace\\UmassCoefff.txt', 'r')\n",
    "#soubor skopirovaných dat z https://physics.nist.gov/PhysRefData/XrayMassCoef/ElemTab/z92.html\n",
    "energy_as_x_to_masscoeff = [] #MeV\n",
    "masscoef_U = [] #(cm2/g)\n",
    "v1_density = 18.37414276 #g/cm3\n",
    "v1_height =  9.99 / 10 #cm\n",
    "\n",
    "def linear(x, a, b):\n",
    "    return a * (x) + b\n",
    "\n",
    "for line in file1:\n",
    "    energy_as_x_to_masscoeff.append(float(line[3:14]))\n",
    "    masscoef_U.append(float(line[15:25]))"
   ]
  },
  {
   "cell_type": "code",
   "execution_count": 10,
   "metadata": {},
   "outputs": [
    {
     "name": "stderr",
     "output_type": "stream",
     "text": [
      "c:\\Users\\david\\anaconda3\\lib\\site-packages\\scipy\\optimize\\minpack.py:833: OptimizeWarning: Covariance of the parameters could not be estimated\n",
      "  warnings.warn('Covariance of the parameters could not be estimated',\n",
      "c:\\Users\\david\\anaconda3\\lib\\site-packages\\scipy\\optimize\\minpack.py:833: OptimizeWarning: Covariance of the parameters could not be estimated\n",
      "  warnings.warn('Covariance of the parameters could not be estimated',\n"
     ]
    },
    {
     "name": "stdout",
     "output_type": "stream",
     "text": [
      "30.608018026179913\n",
      "2.321943623537837\n",
      "31.088246380832555\n",
      "2.3471096295283784\n",
      "energy is 74 and absorbtion is 82.36233378555589\n",
      "energy is 95 and absorbtion is 42.47983752244767\n",
      "energy is 98 and absorbtion is 38.51223813583122\n",
      "energy is 111 and absorbtion is 28.41477216268068\n",
      "energy is 114 and absorbtion is 26.382299513099884\n",
      "energy is 185 and absorbtion is 30.945990311806046\n"
     ]
    },
    {
     "data": {
      "image/png": "[encoded data removed]",
      "text/plain": [
       "<Figure size 432x288 with 1 Axes>"
      ]
     },
     "metadata": {
      "needs_background": "light"
     },
     "output_type": "display_data"
    }
   ],
   "source": [
    "def calculate_absorbtion(energy, energy_x_values = energy_as_x_to_masscoeff, D = v1_height, density = v1_density):\n",
    "    energy = energy/1000    #prevede keV na MeV\n",
    "    for k in range(len(energy_x_values)):\n",
    "        eng = energy_x_values[k]\n",
    "        if eng > energy:\n",
    "            pars, cov = curve_fit(f=linear, xdata=[last_eng, eng], ydata=[masscoef_U[k-1], masscoef_U[k]])\n",
    "            masscoef_of_U = linear(energy, *pars)\n",
    "\n",
    "            return (masscoef_of_U * density * D)/(1 - np.exp(-(masscoef_of_U * density * D)))\n",
    "        \n",
    "        last_eng = eng\n",
    "\n",
    "print(calculate_absorbtion(185.712, D = 9.99 / 10))\n",
    "print(calculate_absorbtion(766.38, D = 9.99 / 10))\n",
    "print(calculate_absorbtion(185.712, D = 10.02 / 10, density= 18.60655066))\n",
    "print(calculate_absorbtion(766.38, D = 10.02 / 10, density= 18.60655066))\n",
    "x = calculate_absorbtion(185.712, D = 9.99 / 10)\n",
    "y = calculate_absorbtion(766.38, D = 9.99 / 10)\n",
    "energys = [74, 95, 98, 111, 114, 185]\n",
    "abs = []\n",
    "for i in energys:\n",
    "    x = calculate_absorbtion(i)\n",
    "    abs.append(x)#avg rth je 33.947286\n",
    "    print(\"energy is {} and absorbtion is {}\".format(i, x))\n",
    "\n",
    "\n",
    "\n",
    "p = np.linspace(60, 200, 10000)\n",
    "plt.errorbar(energys, abs, yerr=0.08, fmt=\".\", elinewidth=1, capsize=5, ecolor='black',color='black')\n",
    "p_list = list(p)\n",
    "x = []\n",
    "for i in p_list:\n",
    "    x.append(calculate_absorbtion(i))\n",
    "\n",
    "plt.plot(p, x, c=\"red\")\n",
    "plt.xlabel(\"[keV]\")\n",
    "plt.yscale('log')\n",
    "plt.xscale('log')\n"
   ]
  }
 ],
 "metadata": {
  "kernelspec": {
   "display_name": "base",
   "language": "python",
   "name": "python3"
  },
  "language_info": {
   "codemirror_mode": {
    "name": "ipython",
    "version": 3
   },
   "file_extension": ".py",
   "mimetype": "text/x-python",
   "name": "python",
   "nbconvert_exporter": "python",
   "pygments_lexer": "ipython3",
   "version": "3.9.12"
  },
  "orig_nbformat": 4,
  "vscode": {
   "interpreter": {
    "hash": "ea8238db6dc1fe8cf6fe83219457bde9bcbcde2053d40c59d2e78211d10c5fee"
   }
  }
 },
 "nbformat": 4,
 "nbformat_minor": 2
}
