{
 "cells": [
  {
   "cell_type": "code",
   "execution_count": 1,
   "metadata": {},
   "outputs": [],
   "source": [
    "import matplotlib.pyplot as plt\n",
    "import numpy as np\n",
    "from scipy.optimize import curve_fit\n",
    "import pandas as pd\n",
    "np.seterr(divide='ignore')\n",
    "\n",
    "data = pd.read_csv('C:/Users/david/Desktop/maturitni_prace/data_analysis_python/eff_october.csv', sep=',', header=None)\n",
    "\n",
    "names = []\n",
    "energy = np.array([])\n",
    "eff = np.array([])\n",
    "yerr = []\n",
    "for i in range(3):\n",
    "    names.append(data[i][0])\n",
    "for j in range(1,31):\n",
    "    eff = np.append(eff, float(data[0][j]))\n",
    "    yerr = np.append(yerr, float(data[1][j]))\n",
    "    energy = np.append(energy, float(data[2][j]))"
   ]
  },
  {
   "cell_type": "code",
   "execution_count": 3,
   "metadata": {},
   "outputs": [],
   "source": [
    "def func(x, a, b, c, d, e, f):\n",
    "    return a * np.log(x)+ b * pow(np.log(x), 2) + c * pow(np.log(x), 3) + d * pow(np.log(x), 4) + e *pow(np.log(x), 5) + f\n",
    "\n",
    "output = []\n",
    "pars, cov = curve_fit(f=func, xdata=energy, ydata=eff, sigma=1./(np.log((yerr*eff))**2))\n",
    "coeff_err = np.sqrt(np.diag(cov))\n",
    "'''\n",
    "for i in range(len(pars)):\n",
    "    output.append('a{0} = {1:.6f} +- {2:.7f} ({3:d} %)'.format(i, pars[i], coeff_err[i], abs(int(coeff_err[i]/pars[i]*100))))\n",
    "for i in output:\n",
    "    print(i)\n",
    "'''\n",
    "\n",
    "global eff_param\n",
    "eff_param = pars"
   ]
  },
  {
   "cell_type": "code",
   "execution_count": 4,
   "metadata": {},
   "outputs": [
    {
     "name": "stdout",
     "output_type": "stream",
     "text": [
      "a0 = -4.122191 +- 0.7323317 (17 %)\n",
      "a1 = 1.620808 +- 0.2766304 (17 %)\n",
      "a2 = -0.312858 +- 0.0518798 (16 %)\n",
      "a3 = 0.029710 +- 0.0048319 (16 %)\n",
      "a4 = -0.001113 +- 0.0001788 (16 %)\n",
      "a5 = 4.112870 +- 0.7698687 (18 %)\n"
     ]
    }
   ],
   "source": []
  },
  {
   "cell_type": "code",
   "execution_count": 5,
   "metadata": {},
   "outputs": [],
   "source": [
    "file1 = open(r'C:\\Users\\david\\Desktop\\maturitni_prace\\UmassCoefff.txt', 'r')\n",
    "#soubor skopirovaných dat z https://physics.nist.gov/PhysRefData/XrayMassCoef/ElemTab/z92.html\n",
    "energy_as_x_to_masscoeff = [] #MeV\n",
    "masscoef_U = [] #(cm2/g)\n",
    "v1_density = 18.37414276 #g/cm3\n",
    "v1_height =  9.99 / 10 #cm\n",
    "\n",
    "def linear(x, a, b):\n",
    "    return a * (x) + b\n",
    "\n",
    "for line in file1:\n",
    "    energy_as_x_to_masscoeff.append(float(line[3:14]))\n",
    "    masscoef_U.append(float(line[15:25]))"
   ]
  },
  {
   "cell_type": "code",
   "execution_count": 6,
   "metadata": {},
   "outputs": [
    {
     "name": "stdout",
     "output_type": "stream",
     "text": [
      "30.608018026179913\n",
      "2.321943623537837\n",
      "31.088246380832555\n",
      "2.3471096295283784\n"
     ]
    },
    {
     "name": "stderr",
     "output_type": "stream",
     "text": [
      "c:\\Users\\david\\AppData\\Local\\Programs\\Python\\Python39\\lib\\site-packages\\scipy\\optimize\\minpack.py:833: OptimizeWarning: Covariance of the parameters could not be estimated\n",
      "  warnings.warn('Covariance of the parameters could not be estimated',\n"
     ]
    }
   ],
   "source": [
    "def calculate_absorbtion(energy, energy_x_values = energy_as_x_to_masscoeff, D = v1_height, density = v1_density):\n",
    "    energy = energy/1000    #prevede keV na MeV\n",
    "    for k in range(len(energy_x_values)):\n",
    "        eng = energy_x_values[k]\n",
    "        if eng > energy:\n",
    "            pars, cov = curve_fit(f=linear, xdata=[last_eng, eng], ydata=[masscoef_U[k-1], masscoef_U[k]])\n",
    "            masscoef_of_U = linear(energy, *pars)\n",
    "\n",
    "            return (masscoef_of_U * density * D)/(1 - np.exp(-(masscoef_of_U * density * D)))\n",
    "        \n",
    "        last_eng = eng\n",
    "\n",
    "print(calculate_absorbtion(185.712, D = 9.99 / 10))\n",
    "print(calculate_absorbtion(766.38, D = 9.99 / 10))\n",
    "print(calculate_absorbtion(185.712, D = 10.02 / 10, density= 18.60655066))\n",
    "print(calculate_absorbtion(766.38, D = 10.02 / 10, density= 18.60655066))"
   ]
  }
 ],
 "metadata": {
  "kernelspec": {
   "display_name": "Julia 1.7.3",
   "language": "julia",
   "name": "julia-1.7"
  },
  "language_info": {
   "codemirror_mode": {
    "name": "ipython",
    "version": 3
   },
   "file_extension": ".py",
   "mimetype": "text/x-python",
   "name": "julia",
   "nbconvert_exporter": "python",
   "pygments_lexer": "ipython3",
   "version": "3.9.7"
  },
  "orig_nbformat": 4,
  "vscode": {
   "interpreter": {
    "hash": "72f235a78b5cf937fd09c1593b6a0e4473f824a03930b62c2c7d9a177b9de8f3"
   }
  }
 },
 "nbformat": 4,
 "nbformat_minor": 2
}
