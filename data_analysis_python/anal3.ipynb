{
 "cells": [
  {
   "cell_type": "code",
   "execution_count": 1,
   "metadata": {},
   "outputs": [],
   "source": [
    "import matplotlib.pyplot as plt\n",
    "import numpy as np\n",
    "from scipy.optimize import curve_fit\n",
    "import pandas as pd\n",
    "np.seterr(divide='ignore')\n",
    "\n",
    "data = pd.read_csv('C:/Users/david/Desktop/maturitni prace/data_analysis_python/eff_october.csv', sep=',', header=None)\n",
    "\n",
    "names = []\n",
    "energy = np.array([])\n",
    "eff = np.array([])\n",
    "#print(data)"
   ]
  },
  {
   "cell_type": "code",
   "execution_count": 2,
   "metadata": {},
   "outputs": [],
   "source": [
    "yerr = []\n",
    "for i in range(3):\n",
    "    names.append(data[i][0])\n",
    "for j in range(1,31):\n",
    "    eff = np.append(eff, float(data[0][j]))\n",
    "    yerr = np.append(yerr, float(data[1][j]))\n",
    "    energy = np.append(energy, float(data[2][j]))"
   ]
  },
  {
   "cell_type": "code",
   "execution_count": 3,
   "metadata": {},
   "outputs": [],
   "source": [
    "def func(x, a, b, c, d, e, f):\n",
    "    return a * np.log(x)+ b * pow(np.log(x), 2) + c * pow(np.log(x), 3) + d * pow(np.log(x), 4) + e *pow(np.log(x), 5) + f\n",
    "\n",
    "def linear(x, a, b):\n",
    "    return a * (x) + b"
   ]
  },
  {
   "cell_type": "code",
   "execution_count": 4,
   "metadata": {},
   "outputs": [
    {
     "name": "stdout",
     "output_type": "stream",
     "text": [
      "a0 = -4.122191 +- 0.7323317 (17 %)\n",
      "a1 = 1.620808 +- 0.2766304 (17 %)\n",
      "a2 = -0.312858 +- 0.0518798 (16 %)\n",
      "a3 = 0.029710 +- 0.0048319 (16 %)\n",
      "a4 = -0.001113 +- 0.0001788 (16 %)\n",
      "a5 = 4.112870 +- 0.7698687 (18 %)\n"
     ]
    },
    {
     "data": {
      "image/png": "[encoded data removed]",
      "text/plain": [
       "<Figure size 432x288 with 1 Axes>"
      ]
     },
     "metadata": {
      "needs_background": "light"
     },
     "output_type": "display_data"
    }
   ],
   "source": [
    "\n",
    "for i in range(1):#sloupce 5\n",
    "    output = []\n",
    "    pars, cov = curve_fit(f=func, xdata=energy, ydata=eff, sigma=1./(np.log((yerr*eff))**2))\n",
    "    coeff_err = np.sqrt(np.diag(cov))\n",
    "    for i in range(len(pars)):\n",
    "        output.append('a{0} = {1:.6f} +- {2:.7f} ({3:d} %)'.format(i, pars[i], coeff_err[i], abs(int(coeff_err[i]/pars[i]*100))))\n",
    "\n",
    "    for i in output:\n",
    "        print(i)\n",
    "        \n",
    "    global eff_param\n",
    "    eff_param = pars\n",
    "\n",
    "    #plotovani\n",
    "    p = np.linspace(min(energy)-5, max(energy)+5, 100000)\n",
    "    plt.errorbar(energy, eff, yerr=yerr, fmt=\".\", elinewidth=1, capsize=5, ecolor='black',color='black')\n",
    "    plt.plot(p, func(p, *pars), c=\"red\")\n",
    "    plt.ylabel(\"Účinnost\")\n",
    "    plt.xlabel(\"Energie [keV]\")\n",
    "    plt.ylim(ymin=0)#omezeni aby vykreslovalo jen kladna y"
   ]
  },
  {
   "cell_type": "code",
   "execution_count": 14,
   "metadata": {},
   "outputs": [
    {
     "name": "stdout",
     "output_type": "stream",
     "text": [
      "0.005579466012117784\n",
      "0.0012628411273754026\n"
     ]
    }
   ],
   "source": [
    "print(func(185.712, *eff_param))\n",
    "print(func(766.38, *eff_param))"
   ]
  },
  {
   "cell_type": "markdown",
   "metadata": {},
   "source": [
    "# parameters:\n",
    "* a0 = -4.133349 +- 0.6703348 (16 %) \n",
    "* a1 = 1.625515 +- 0.2530204 (15 %)\n",
    "* a2 = -0.313862 +- 0.0474190 (15 %)\n",
    "* a3 = 0.029817 +- 0.0044139 (14 %)\n",
    "* a4 = -0.001117 +- 0.0001633 (14 %)\n",
    "* a5 = 4.123716 +- 0.7052136 (17 %)"
   ]
  },
  {
   "attachments": {},
   "cell_type": "markdown",
   "metadata": {},
   "source": [
    "$$\n",
    "I =  I_0 \\cdot e^{masscoef * neco}\n",
    "$$\n",
    "kde\n",
    "$masscoeff * neco $ musi byt beztrozmerne,  I je zareni ktere zmerime na detektoru\n",
    "potom\n",
    "$$\n",
    "neco [cm^{-2}g] \\implies density [cm^{-3}g] * height [cm]\n",
    "$$"
   ]
  },
  {
   "cell_type": "code",
   "execution_count": 20,
   "metadata": {},
   "outputs": [],
   "source": [
    "file1 = open(r'C:\\Users\\david\\Desktop\\maturitni_prace\\UmassCoefff.txt', 'r')\n",
    "#soubor skopirovaných dat z https://physics.nist.gov/PhysRefData/XrayMassCoef/ElemTab/z92.html\n",
    "energy_as_x_to_masscoeff = [] #MeV\n",
    "masscoef_U = [] #(cm2/g)\n",
    "v1_density = 18.37414276 #g/cm3\n",
    "v1_height =  9.99 / 10 #cm\n",
    "\n",
    "for line in file1:\n",
    "    energy_as_x_to_masscoeff.append(float(line[3:14]))\n",
    "    masscoef_U.append(float(line[15:25]))"
   ]
  },
  {
   "cell_type": "code",
   "execution_count": 6,
   "metadata": {},
   "outputs": [],
   "source": [
    "def exp(masscoeff, density, height):\n",
    "    x = masscoeff * density * height\n",
    "    return np.exp(x)"
   ]
  },
  {
   "cell_type": "code",
   "execution_count": 15,
   "metadata": {},
   "outputs": [
    {
     "name": "stdout",
     "output_type": "stream",
     "text": [
      "1.6643068999999997\n"
     ]
    },
    {
     "name": "stderr",
     "output_type": "stream",
     "text": [
      "c:\\Users\\david\\AppData\\Local\\Programs\\Python\\Python39\\lib\\site-packages\\scipy\\optimize\\minpack.py:833: OptimizeWarning: Covariance of the parameters could not be estimated\n",
      "  warnings.warn('Covariance of the parameters could not be estimated',\n"
     ]
    }
   ],
   "source": [
    "#v tabulce jsem hodnoty ktere jsem použil vyznačil fialově\n",
    "\n",
    "def calculate_correct_area(energy_of_U, area_of_U):\n",
    "    '''energy in MeV'''\n",
    "    area_of_U = energy_of_U / func(energy_of_U*1000, *eff_param)#preopocita plochu dle effektivity\n",
    "\n",
    "    for k in range(len(energy_as_x_to_masscoeff)):\n",
    "        #hledam nejbizsi hodnoty\n",
    "        eng = energy_as_x_to_masscoeff[k]\n",
    "        if eng > energy_of_U:\n",
    "            pars, cov = curve_fit(f=linear, xdata=[last_eng, eng], ydata=[masscoef_U[k-1], masscoef_U[k]])\n",
    "            #udelám usecku mezi nejblizismi hodnotami a dopocitam si hodnotu kterou potrebuji\n",
    "            masscoef_of_U = linear(energy_of_U, *pars)\n",
    "            #print(\"masscoef from linear aprroxiamtion of function of absorbtion is: {}\".format(masscoef_of_U))\n",
    "            print(masscoef_of_U) #dopočítaná hodnota mass coeficientu\n",
    "            #print(area_of_U * exp(masscoef_of_U, v1_density, v1_height))\n",
    "            return area_of_U * exp(masscoef_of_U, v1_density, v1_height)\n",
    "        last_eng = eng\n",
    "\n",
    "u235 = calculate_correct_area(0.185835, 169587.2)\n"
   ]
  },
  {
   "cell_type": "code",
   "execution_count": 16,
   "metadata": {},
   "outputs": [
    {
     "name": "stdout",
     "output_type": "stream",
     "text": [
      "0.10956794\n"
     ]
    }
   ],
   "source": [
    "th234 = calculate_correct_area(0.76638, 98381.6)"
   ]
  },
  {
   "cell_type": "code",
   "execution_count": 9,
   "metadata": {},
   "outputs": [],
   "source": [
    "#normalize by intensity\n",
    "U235 = u235/0.572 #je to thorium nebo proaktinum??\n",
    "TH234 = th234/0.00294\n",
    "U238 = TH234 * 67715228215.76763    #half lifi of u = 1.4099935680000002e+17, th = 2082240, constant is u/th"
   ]
  },
  {
   "cell_type": "code",
   "execution_count": 10,
   "metadata": {},
   "outputs": [
    {
     "name": "stdout",
     "output_type": "stream",
     "text": [
      "0.010221091906996172\n"
     ]
    }
   ],
   "source": [
    "enrichment = U235/ (U235 + U238)\n",
    "print(enrichment)"
   ]
  },
  {
   "cell_type": "code",
   "execution_count": 17,
   "metadata": {},
   "outputs": [
    {
     "name": "stdout",
     "output_type": "stream",
     "text": [
      "1.6643068999999997\n",
      "0.10956794\n",
      "enrichment of first samlpe is: 99.9999998569939 %\n",
      "1.6643068999999997\n",
      "0.10956794\n",
      "enrichment of second samlpe is: 99.9999998569939 %\n",
      "1.6643068999999997\n",
      "0.10956794\n",
      "enrichment of 3th samlpe is: 99.9999998569939 %\n",
      "1.6643068999999997\n",
      "0.10956794\n",
      "enrichment of 4th samlpe is: 99.9999998569939 %\n"
     ]
    },
    {
     "name": "stderr",
     "output_type": "stream",
     "text": [
      "c:\\Users\\david\\AppData\\Local\\Programs\\Python\\Python39\\lib\\site-packages\\scipy\\optimize\\minpack.py:833: OptimizeWarning: Covariance of the parameters could not be estimated\n",
      "  warnings.warn('Covariance of the parameters could not be estimated',\n"
     ]
    }
   ],
   "source": [
    "def peaks_to_enrichment(energy_U235, area_U235, energy_Th, area_Th):\n",
    "    '''energy is in keV'''\n",
    "    u235 = calculate_correct_area(energy_U235/1000, area_U235)\n",
    "    th234 = calculate_correct_area(energy_Th/1000, area_Th)\n",
    "    U235 = u235/0.572 #je to thorium nebo proaktinum??\n",
    "    TH234 = th234/0.00294\n",
    "    U238 = TH234 * 67715228215.76763    #half lifi of u = 1.4099935680000002e+17, th = 2082240, constant is u/th\n",
    "    enrichment = U235/ (U235 + U238)\n",
    "    return enrichment\n",
    "\n",
    "print(\"enrichment of first samlpe is: {} %\".format(peaks_to_enrichment(185.835, 169587.2, 766.38, 98381.6)*100))\n",
    "print(\"enrichment of second samlpe is: {} %\".format(peaks_to_enrichment(185.835, 42803.8, 766.38, 24672.3)*100))\n",
    "print(\"enrichment of 3th samlpe is: {} %\".format(peaks_to_enrichment(185.835, 40608.2, 766.38, 12506.7)*100))\n",
    "print(\"enrichment of 4th samlpe is: {} %\".format(peaks_to_enrichment(185.835, 86737.1, 766.38, 26741)*100))\n",
    "#something is wrong, i can feel it"
   ]
  },
  {
   "cell_type": "code",
   "execution_count": 12,
   "metadata": {},
   "outputs": [
    {
     "data": {
      "image/png": "[encoded data removed]",
      "text/plain": [
       "<Figure size 432x288 with 1 Axes>"
      ]
     },
     "metadata": {
      "needs_background": "light"
     },
     "output_type": "display_data"
    }
   ],
   "source": [
    "#debug\n",
    "a = []\n",
    "xs = range(1, 700)\n",
    "for dx in xs:\n",
    "    a.append(calculate_correct_area(0.150+(dx/1000), 10)/100)\n",
    "    if calculate_correct_area(0.150+dx/1000, 1000) < 0:\n",
    "        print(\"eneded at energy {}\".format(0.150+dx/1000))\n",
    "        break\n",
    "\n",
    "#print(a)\n",
    "b = []\n",
    "bs = range(1, len(a))\n",
    "for i in bs:\n",
    "    b.append(a[i] - a[i-1])\n",
    "\n",
    "#print(b)\n",
    "\n",
    "#plotovani\n",
    "plt.scatter(xs, a, c=\"r\")\n",
    "plt.scatter(bs, b, c=\"b\")\n",
    "plt.yscale('log')\n",
    "#jej to sedi (asi) to by melo fungovat\n"
   ]
  },
  {
   "cell_type": "code",
   "execution_count": 13,
   "metadata": {},
   "outputs": [
    {
     "data": {
      "text/plain": [
       "<matplotlib.collections.PathCollection at 0x11daeea72e0>"
      ]
     },
     "execution_count": 13,
     "metadata": {},
     "output_type": "execute_result"
    },
    {
     "data": {
      "image/png": "[encoded data removed]",
      "text/plain": [
       "<Figure size 432x288 with 1 Axes>"
      ]
     },
     "metadata": {
      "needs_background": "light"
     },
     "output_type": "display_data"
    }
   ],
   "source": [
    "x = range(100)\n",
    "x0 = 169587\n",
    "y = range(100)\n",
    "y0 = 98381\n",
    "z0 = []\n",
    "z1 = []\n",
    "z2 = []\n",
    "\n",
    "for i in range(100):\n",
    "    z0.append(peaks_to_enrichment(185.835, i * 100, 766.38, y0))\n",
    "    z1.append(peaks_to_enrichment(185.835, x0, 766.38, i * 100))\n",
    "    z2.append(peaks_to_enrichment(185.835, i * 100, 766.38, i * 100))\n",
    "\n",
    "\n",
    "plt.scatter(x, z0, c=\"r\")\n",
    "plt.scatter(x, z1, c=\"b\")\n",
    "plt.scatter(x, z1, c=\"g\")\n",
    "#dukaz toho ze nezavisi na plose..."
   ]
  },
  {
   "cell_type": "code",
   "execution_count": 30,
   "metadata": {},
   "outputs": [
    {
     "name": "stdout",
     "output_type": "stream",
     "text": [
      "2.054122335461702\n",
      "1.055727414649691\n"
     ]
    }
   ],
   "source": [
    "def calculate_absorbtion(energy, coeff = masscoef_U, energy_x_values = energy_as_x_to_masscoeff, D = v1_height, density = v1_density):\n",
    "    energy = energy/1000\n",
    "    for k in range(len(energy_x_values)):\n",
    "        eng = energy_x_values[k]\n",
    "        if eng > energy:\n",
    "            pars, cov = curve_fit(f=linear, xdata=[last_eng, eng], ydata=[masscoef_U[k-1], masscoef_U[k]])\n",
    "            masscoef_of_U = linear(energy, *pars)\n",
    "            #print(masscoef_of_U)\n",
    "            return (masscoef_of_U * D)/(1 - np.exp(-(masscoef_of_U * D)))\n",
    "\n",
    "        last_eng = eng\n",
    "\n",
    "print(calculate_absorbtion(185.712))\n",
    "print(calculate_absorbtion(766.38))"
   ]
  }
 ],
 "metadata": {
  "kernelspec": {
   "display_name": "Python 3.9.7 64-bit",
   "language": "python",
   "name": "python3"
  },
  "language_info": {
   "codemirror_mode": {
    "name": "ipython",
    "version": 3
   },
   "file_extension": ".py",
   "mimetype": "text/x-python",
   "name": "python",
   "nbconvert_exporter": "python",
   "pygments_lexer": "ipython3",
   "version": "3.9.7"
  },
  "orig_nbformat": 4,
  "vscode": {
   "interpreter": {
    "hash": "72f235a78b5cf937fd09c1593b6a0e4473f824a03930b62c2c7d9a177b9de8f3"
   }
  }
 },
 "nbformat": 4,
 "nbformat_minor": 2
}
