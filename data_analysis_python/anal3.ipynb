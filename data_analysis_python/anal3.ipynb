{
 "cells": [
  {
   "cell_type": "code",
   "execution_count": 17,
   "metadata": {},
   "outputs": [],
   "source": [
    "import matplotlib.pyplot as plt\n",
    "import numpy as np\n",
    "from scipy.optimize import curve_fit\n",
    "import pandas as pd\n",
    "np.seterr(divide='ignore')\n",
    "\n",
    "data = pd.read_csv('C:/Users/david/Desktop/maturitni_prace/data_analysis_python/eff_october.csv', sep=',', header=None)\n",
    "\n",
    "names = []\n",
    "energy = np.array([])\n",
    "eff = np.array([])\n",
    "#print(data)"
   ]
  },
  {
   "cell_type": "code",
   "execution_count": 18,
   "metadata": {},
   "outputs": [],
   "source": [
    "yerr = []\n",
    "for i in range(3):\n",
    "    names.append(data[i][0])\n",
    "for j in range(1,31):\n",
    "    eff = np.append(eff, float(data[0][j]))\n",
    "    yerr = np.append(yerr, float(data[1][j]))\n",
    "    energy = np.append(energy, float(data[2][j]))"
   ]
  },
  {
   "cell_type": "code",
   "execution_count": 19,
   "metadata": {},
   "outputs": [],
   "source": [
    "def func(x, a, b, c, d, e, f):\n",
    "    return a * np.log(x)+ b * pow(np.log(x), 2) + c * pow(np.log(x), 3) + d * pow(np.log(x), 4) + e *pow(np.log(x), 5) + f\n",
    "\n",
    "def linear(x, a, b):\n",
    "    return a * (x) + b"
   ]
  },
  {
   "cell_type": "code",
   "execution_count": 20,
   "metadata": {},
   "outputs": [
    {
     "name": "stdout",
     "output_type": "stream",
     "text": [
      "a0 = -4.122191 +- 0.7323317 (17 %)\n",
      "a1 = 1.620808 +- 0.2766304 (17 %)\n",
      "a2 = -0.312858 +- 0.0518798 (16 %)\n",
      "a3 = 0.029710 +- 0.0048319 (16 %)\n",
      "a4 = -0.001113 +- 0.0001788 (16 %)\n",
      "a5 = 4.112870 +- 0.7698687 (18 %)\n"
     ]
    },
    {
     "data": {
      "image/png": "[encoded data removed]",
      "text/plain": [
       "<Figure size 432x288 with 1 Axes>"
      ]
     },
     "metadata": {
      "needs_background": "light"
     },
     "output_type": "display_data"
    }
   ],
   "source": [
    "\n",
    "for i in range(1):#sloupce 5\n",
    "    output = []\n",
    "    pars, cov = curve_fit(f=func, xdata=energy, ydata=eff, sigma=1./(np.log((yerr*eff))**2))\n",
    "    coeff_err = np.sqrt(np.diag(cov))\n",
    "    for i in range(len(pars)):\n",
    "        output.append('a{0} = {1:.6f} +- {2:.7f} ({3:d} %)'.format(i, pars[i], coeff_err[i], abs(int(coeff_err[i]/pars[i]*100))))\n",
    "\n",
    "    for i in output:\n",
    "        print(i)\n",
    "        \n",
    "    global eff_param\n",
    "    eff_param = pars\n",
    "\n",
    "    #plotovani\n",
    "    p = np.linspace(min(energy)-5, max(energy)+5, 100000)\n",
    "    plt.errorbar(energy, eff, yerr=yerr, fmt=\".\", elinewidth=1, capsize=5, ecolor='black',color='black')\n",
    "    plt.plot(p, func(p, *pars), c=\"red\")\n",
    "    plt.ylabel(\"Účinnost\")\n",
    "    plt.xlabel(\"Energie [keV]\")\n",
    "    plt.ylim(ymin=0)#omezeni aby vykreslovalo jen kladna y"
   ]
  },
  {
   "cell_type": "code",
   "execution_count": 21,
   "metadata": {},
   "outputs": [
    {
     "name": "stdout",
     "output_type": "stream",
     "text": [
      "0.005579466012117784\n",
      "0.0012628411273754026\n"
     ]
    }
   ],
   "source": [
    "print(func(185.712, *eff_param))\n",
    "print(func(766.38, *eff_param))"
   ]
  },
  {
   "cell_type": "markdown",
   "metadata": {},
   "source": [
    "# parameters:\n",
    "* a0 = -4.133349 +- 0.6703348 (16 %) \n",
    "* a1 = 1.625515 +- 0.2530204 (15 %)\n",
    "* a2 = -0.313862 +- 0.0474190 (15 %)\n",
    "* a3 = 0.029817 +- 0.0044139 (14 %)\n",
    "* a4 = -0.001117 +- 0.0001633 (14 %)\n",
    "* a5 = 4.123716 +- 0.7052136 (17 %)"
   ]
  },
  {
   "attachments": {},
   "cell_type": "markdown",
   "metadata": {},
   "source": [
    "$$\n",
    "I =  I_0 \\cdot e^{masscoef * neco}\n",
    "$$\n",
    "kde\n",
    "$masscoeff * neco $ musi byt beztrozmerne,  I je zareni ktere zmerime na detektoru\n",
    "potom\n",
    "$$\n",
    "neco [cm^{-2}g] \\implies density [cm^{-3}g] * height [cm]\n",
    "$$"
   ]
  },
  {
   "cell_type": "code",
   "execution_count": 22,
   "metadata": {},
   "outputs": [],
   "source": [
    "file1 = open(r'C:\\Users\\david\\Desktop\\maturitni_prace\\UmassCoefff.txt', 'r')\n",
    "#soubor skopirovaných dat z https://physics.nist.gov/PhysRefData/XrayMassCoef/ElemTab/z92.html\n",
    "energy_as_x_to_masscoeff = [] #MeV\n",
    "masscoef_U = [] #(cm2/g)\n",
    "v1_density = 18.37414276 #g/cm3\n",
    "v1_height =  9.99 / 10 #cm\n",
    "\n",
    "for line in file1:\n",
    "    energy_as_x_to_masscoeff.append(float(line[3:14]))\n",
    "    masscoef_U.append(float(line[15:25]))"
   ]
  },
  {
   "cell_type": "code",
   "execution_count": 24,
   "metadata": {},
   "outputs": [
    {
     "name": "stdout",
     "output_type": "stream",
     "text": [
      "30.608018026179913\n",
      "2.321943623537837\n",
      "31.088246380832555\n",
      "2.3471096295283784\n"
     ]
    },
    {
     "name": "stderr",
     "output_type": "stream",
     "text": [
      "c:\\Users\\david\\AppData\\Local\\Programs\\Python\\Python39\\lib\\site-packages\\scipy\\optimize\\minpack.py:833: OptimizeWarning: Covariance of the parameters could not be estimated\n",
      "  warnings.warn('Covariance of the parameters could not be estimated',\n"
     ]
    }
   ],
   "source": [
    "def calculate_absorbtion(energy, energy_x_values = energy_as_x_to_masscoeff, D = v1_height, density = v1_density):\n",
    "    energy = energy/1000\n",
    "    for k in range(len(energy_x_values)):\n",
    "        eng = energy_x_values[k]\n",
    "        if eng > energy:\n",
    "            pars, cov = curve_fit(f=linear, xdata=[last_eng, eng], ydata=[masscoef_U[k-1], masscoef_U[k]])\n",
    "            masscoef_of_U = linear(energy, *pars)\n",
    "            return (masscoef_of_U * density * D)/(1 - np.exp(-(masscoef_of_U * density * D)))\n",
    "\n",
    "        last_eng = eng\n",
    "\n",
    "\n",
    "print(calculate_absorbtion(185.712, D = 9.99 / 10))\n",
    "print(calculate_absorbtion(766.38, D = 9.99 / 10))\n",
    "print(calculate_absorbtion(185.712, D = 10.02 / 10, density= 18.60655066))\n",
    "print(calculate_absorbtion(766.38, D = 10.02 / 10, density= 18.60655066))"
   ]
  }
 ],
 "metadata": {
  "kernelspec": {
   "display_name": "Python 3.9.7 64-bit",
   "language": "python",
   "name": "python3"
  },
  "language_info": {
   "codemirror_mode": {
    "name": "ipython",
    "version": 3
   },
   "file_extension": ".py",
   "mimetype": "text/x-python",
   "name": "python",
   "nbconvert_exporter": "python",
   "pygments_lexer": "ipython3",
   "version": "3.9.7"
  },
  "orig_nbformat": 4,
  "vscode": {
   "interpreter": {
    "hash": "72f235a78b5cf937fd09c1593b6a0e4473f824a03930b62c2c7d9a177b9de8f3"
   }
  }
 },
 "nbformat": 4,
 "nbformat_minor": 2
}
