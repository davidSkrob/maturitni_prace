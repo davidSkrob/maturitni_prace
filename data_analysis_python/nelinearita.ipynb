{
 "cells": [
  {
   "cell_type": "code",
   "execution_count": 37,
   "metadata": {},
   "outputs": [],
   "source": [
    "import matplotlib.pyplot as plt\n",
    "import numpy as np\n",
    "from scipy.optimize import curve_fit\n",
    "import pandas as pd\n",
    "np.seterr(divide='ignore')\n",
    "\n",
    "data = pd.read_csv('C:/Users/david/Desktop/maturitni_prace/data_analysis_python/nelinearita.csv', sep=',', header=None)\n",
    "\n",
    "\n",
    "threshold = 740             #hranice kde se meni z primky na linearne klesajici\n",
    "\n",
    "energy = np.array([])       #tabulkova energie\n",
    "difference = np.array([])   #rozdil mezi energii tabulkovou a energii namerenou\n",
    "for j in range(31):\n",
    "    energy = np.append(energy, float(data[0][j]))\n",
    "    difference = np.append(difference, float(data[1][j]))"
   ]
  },
  {
   "cell_type": "code",
   "execution_count": 38,
   "metadata": {},
   "outputs": [],
   "source": [
    "def fce(x, a, b):\n",
    "    x = x - threshold\n",
    "    return (a * (x)**2 + b * x ) /(1+np.exp(-2*10000*x))\n",
    "    "
   ]
  },
  {
   "cell_type": "code",
   "execution_count": 40,
   "metadata": {},
   "outputs": [
    {
     "name": "stderr",
     "output_type": "stream",
     "text": [
      "C:\\Users\\david\\AppData\\Local\\Temp\\ipykernel_12352\\1925145476.py:3: RuntimeWarning: overflow encountered in exp\n",
      "  return (a * (x)**2 + b * x ) /(1+np.exp(-2*10000*x))\n"
     ]
    },
    {
     "data": {
      "text/plain": [
       "(-3.779, 0.6084199123664795)"
      ]
     },
     "execution_count": 40,
     "metadata": {},
     "output_type": "execute_result"
    },
    {
     "data": {
      "image/png": "[encoded data removed]",
      "text/plain": [
       "<Figure size 432x288 with 1 Axes>"
      ]
     },
     "metadata": {
      "needs_background": "light"
     },
     "output_type": "display_data"
    }
   ],
   "source": [
    "pars, cov = curve_fit(f=fce, xdata=energy, ydata=difference)\n",
    "\n",
    "p = np.linspace(min(energy)-5, max(energy)+5, 100000)\n",
    "plt.errorbar(energy, difference, yerr=0.08, fmt=\".\", elinewidth=1, capsize=5, ecolor='black',color='black')\n",
    "plt.plot(p, fce(p, *pars), c=\"red\")\n",
    "plt.ylabel(\"nelinearita\")\n",
    "plt.xlabel(\"[keV]\")\n",
    "plt.ylim(ymin=min(difference))"
   ]
  }
 ],
 "metadata": {
  "kernelspec": {
   "display_name": "Python 3",
   "language": "python",
   "name": "python3"
  },
  "language_info": {
   "codemirror_mode": {
    "name": "ipython",
    "version": 3
   },
   "file_extension": ".py",
   "mimetype": "text/x-python",
   "name": "python",
   "nbconvert_exporter": "python",
   "pygments_lexer": "ipython3",
   "version": "3.9.7"
  },
  "orig_nbformat": 4,
  "vscode": {
   "interpreter": {
    "hash": "72f235a78b5cf937fd09c1593b6a0e4473f824a03930b62c2c7d9a177b9de8f3"
   }
  }
 },
 "nbformat": 4,
 "nbformat_minor": 2
}
