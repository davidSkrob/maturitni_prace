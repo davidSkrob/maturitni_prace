{
 "cells": [
  {
   "cell_type": "code",
   "execution_count": 15,
   "metadata": {},
   "outputs": [],
   "source": [
    "import matplotlib.pyplot as plt\n",
    "import numpy as np\n",
    "from scipy.optimize import curve_fit\n",
    "import pandas as pd"
   ]
  },
  {
   "cell_type": "code",
   "execution_count": 34,
   "metadata": {},
   "outputs": [
    {
     "name": "stdout",
     "output_type": "stream",
     "text": [
      "29\n",
      "[2, 4, 8, 16, 32, 64, 128, 256, 512, 1024, 2048, 4096, 8192, 16384, 32768, 65536, 131072, 262144, 524288, 1048576, 2097152, 4194304, 8388608, 16777216, 33554432, 67108864, 134217728, 268435456, 536870912]\n"
     ]
    }
   ],
   "source": [
    "y = [0.5,0.75,1.375,2.6875,5.34375,10.671875,21.3359375,42.66796875,85.333984375,\n",
    "170.6669921875,341.33349609375,682.666748046875,1365.3333740234375,2730.6666870117188,\n",
    "5461.333343505859,10922.66667175293,21845.333335876465,43690.66666793823,87381.33333396912,\n",
    "174762.66666698456,349525.3333334923,699050.6666667461,1398101.333333373,2796202.6666666865,\n",
    "5592405.333333343,11184810.666666672,22369621.333333336, 44739242.66666667, 89478485.33333333, 178956970.66666666]\n",
    "x = [2**(i+1) for i in range(len(y))]\n",
    "print(len(y))\n",
    "print(x)\n",
    "def f(E, coef):\n",
    "    return coef*E#ta funkce co se bude fitovat"
   ]
  },
  {
   "cell_type": "code",
   "execution_count": 38,
   "metadata": {},
   "outputs": [
    {
     "data": {
      "text/plain": [
       "Text(0, 0.5, 'lulwxd ')"
      ]
     },
     "execution_count": 38,
     "metadata": {},
     "output_type": "execute_result"
    },
    {
     "data": {
      "image/png": "[encoded data removed]",
      "text/plain": [
       "<Figure size 432x288 with 1 Axes>"
      ]
     },
     "metadata": {
      "needs_background": "light"
     },
     "output_type": "display_data"
    }
   ],
   "source": [
    "plt.scatter(x, y, s=14)\n",
    "pars, cov = curve_fit(f=f, xdata=x, ydata=y)\n",
    "    #plt.errorbar(anglearray, aver_meas, unc_arr, fmt=\".\", elinewidth=1, capsize=5, ecolor='black',color='black')\n",
    "#plt.plot(p, f(p, *pars), c=\"red\")\n",
    "\n",
    "    #theta = np.arange(0, 5*np.pi/8, step=(np.pi /8))\n",
    "    #plt.xticks(theta, ['0', 'π/8', 'π/4', '3π/8', 'π/2'])\n",
    "p = np.linspace(min(x)-5, max(x)+5, 100000)#hodnoty\n",
    "plt.plot(p, f(p, *pars), c=\"red\")\n",
    "plt.title(\"Závislost lul na lulwxd\")\n",
    "plt.xlabel(\"lul\")\n",
    "plt.ylabel(\"lulwxd \")"
   ]
  },
  {
   "cell_type": "code",
   "execution_count": 39,
   "metadata": {},
   "outputs": [
    {
     "name": "stdout",
     "output_type": "stream",
     "text": [
      "0.16666666666666669\n"
     ]
    }
   ],
   "source": [
    "print(*pars)"
   ]
  },
  {
   "cell_type": "code",
   "execution_count": 40,
   "metadata": {},
   "outputs": [
    {
     "name": "stdout",
     "output_type": "stream",
     "text": [
      "715827882.6666667\n"
     ]
    }
   ],
   "source": [
    "print(f(2**32, *pars))"
   ]
  }
 ],
 "metadata": {
  "kernelspec": {
   "display_name": "Python 3.9.12 ('base')",
   "language": "python",
   "name": "python3"
  },
  "language_info": {
   "codemirror_mode": {
    "name": "ipython",
    "version": 3
   },
   "file_extension": ".py",
   "mimetype": "text/x-python",
   "name": "python",
   "nbconvert_exporter": "python",
   "pygments_lexer": "ipython3",
   "version": "3.9.12"
  },
  "orig_nbformat": 4,
  "vscode": {
   "interpreter": {
    "hash": "ea8238db6dc1fe8cf6fe83219457bde9bcbcde2053d40c59d2e78211d10c5fee"
   }
  }
 },
 "nbformat": 4,
 "nbformat_minor": 2
}
